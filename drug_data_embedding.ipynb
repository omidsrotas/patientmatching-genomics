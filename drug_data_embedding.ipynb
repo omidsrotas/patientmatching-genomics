{
 "cells": [
  {
   "cell_type": "code",
   "execution_count": 1,
   "metadata": {},
   "outputs": [],
   "source": [
    "import numpy as np\n",
    "import pandas as pd\n",
    "import pickle\n",
    "import torch\n",
    "from torch.utils.data import DataLoader, Dataset\n",
    "import matplotlib.pyplot as plt\n",
    "import json\n",
    "from collections import defaultdict\n",
    "import yaml\n",
    "import logging\n",
    "from sklearn.model_selection import train_test_split\n",
    "from src.data_loader import *\n",
    "from models.encoders import *"
   ]
  },
  {
   "cell_type": "code",
   "execution_count": 18,
   "metadata": {},
   "outputs": [],
   "source": [
    "mostafa_data_dir = '/home/azureuser/cloudfiles/code/Users/mostafa.mohammadrezaee/data/'\n",
    "# read the genomics data as the pickle file\n",
    "with open(mostafa_data_dir + 'large_molecules_embeddins.pkl', 'rb') as f:\n",
    "    large_molecules_embedding_data = pickle.load(f)\n",
    "with open(mostafa_data_dir + 'small_molecules_embeddings.pkl', 'rb') as f:\n",
    "    small_molecules_embedding_data = pickle.load(f)"
   ]
  },
  {
   "cell_type": "code",
   "execution_count": 17,
   "metadata": {},
   "outputs": [],
   "source": [
    "large_molecule_embedding = {}\n",
    "for vector in large_molecules_embedding_data['large_molecules']:\n",
    "    drug_name = vector[0].strip(\"'\")\n",
    "    drug_vector = vector[1:].astype(np.float32)\n",
    "    large_molecule_embedding[drug_name] = drug_vector"
   ]
  },
  {
   "cell_type": "code",
   "execution_count": 24,
   "metadata": {},
   "outputs": [
    {
     "data": {
      "text/plain": [
       "(768,)"
      ]
     },
     "execution_count": 24,
     "metadata": {},
     "output_type": "execute_result"
    }
   ],
   "source": [
    "drug_data_embedding= {}\n",
    "drug_data_embedding['small_molecule'] = small_molecules_embedding_data['small_molecules']\n",
    "drug_data_embedding['large_molecule'] = large_molecule_embedding"
   ]
  },
  {
   "cell_type": "code",
   "execution_count": 16,
   "metadata": {},
   "outputs": [
    {
     "data": {
      "text/plain": [
       "array([ 0.1230488 ,  0.05246976, -0.01106917, ..., -0.04697878,\n",
       "       -0.05647518, -0.01329987], dtype=float32)"
      ]
     },
     "execution_count": 16,
     "metadata": {},
     "output_type": "execute_result"
    }
   ],
   "source": [
    "drug_vector"
   ]
  }
 ],
 "metadata": {
  "kernelspec": {
   "display_name": "azureml_py38",
   "language": "python",
   "name": "python3"
  },
  "language_info": {
   "codemirror_mode": {
    "name": "ipython",
    "version": 3
   },
   "file_extension": ".py",
   "mimetype": "text/x-python",
   "name": "python",
   "nbconvert_exporter": "python",
   "pygments_lexer": "ipython3",
   "version": "3.10.11"
  }
 },
 "nbformat": 4,
 "nbformat_minor": 2
}
